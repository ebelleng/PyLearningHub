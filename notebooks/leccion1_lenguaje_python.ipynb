{
 "cells": [
  {
   "cell_type": "markdown",
   "id": "58f43452",
   "metadata": {},
   "source": [
    "# 📓 Portafolio Módulo 2 – PyLearningHub\n",
    "\n",
    "**Nombre:** Etienne Bellenger H.  \n",
    "**Bootcamp:** Fund. Ing de Datos – PyLearningHub  \n",
    "**Evaluación:** Sentencias Básicas del Lenguaje Python  \n",
    "**Fecha:** Junio 2025  \n",
    "\n",
    "---\n",
    "\n",
    "Este notebook forma parte del portafolio del módulo 2 del Bootcamp, donde se pone en práctica la creación de funciones en Python, el manejo de entradas del usuario y la estructura modular del código.\n",
    "\n",
    "Además, se documenta detalladamente el funcionamiento, pruebas realizadas y se incluyen buenas prácticas de programación.\n",
    "\n",
    "> 💡 *\"Trabajar con funciones separadas me ayudó a entender mejor cómo se organiza el código para que sea reutilizable y fácil de mantener.\"*\n"
   ]
  },
  {
   "cell_type": "markdown",
   "id": "17caf8d7",
   "metadata": {},
   "source": [
    "## 🧠 Introducción\n",
    "En este notebook se desarrolla una calculadora básica en Python, donde cada operación matemática se define como una función separada.\n",
    "Este enfoque permite trabajar de forma modular, mejorar la reutilización del código y facilitar la lectura y mantenimiento.\n",
    "\n",
    "Los principales objetivos son:\n",
    "\n",
    "- Implementar funciones para las 4 operaciones básicas.\n",
    "- Controlar la interacción con el usuario usando input.\n",
    "- Validar errores comunes como división por cero o entradas no numéricas.\n",
    "- Organizar y documentar el código de forma clara."
   ]
  },
  {
   "cell_type": "markdown",
   "id": "f4e53a67",
   "metadata": {},
   "source": [
    "### ➕ Función para sumar\n",
    "Esta función recibe dos parámetros y retorna la suma.\n",
    "Es útil para reutilizarla en distintas partes del programa o en otros proyectos."
   ]
  },
  {
   "cell_type": "code",
   "execution_count": 2,
   "id": "da92f151",
   "metadata": {},
   "outputs": [],
   "source": [
    "def sumar(a, b):\n",
    "    \"\"\"\n",
    "    Realiza la suma de dos números.\n",
    "\n",
    "    Parámetros:\n",
    "    a (float): Primer número.\n",
    "    b (float): Segundo número.\n",
    "\n",
    "    Retorna:\n",
    "    float: Resultado de la suma.\n",
    "    \"\"\"\n",
    "    return a + b"
   ]
  },
  {
   "cell_type": "markdown",
   "id": "da61a0c3",
   "metadata": {},
   "source": [
    "### ➖ Función para restar\n",
    "Ahora agregamos la función para restar dos números.\n",
    "Al igual que la anterior, es buena práctica separar cada operación en su propia función."
   ]
  },
  {
   "cell_type": "code",
   "execution_count": 3,
   "id": "60a86bc6",
   "metadata": {},
   "outputs": [],
   "source": [
    "def restar(a, b):\n",
    "    \"\"\"\n",
    "    Realiza la resta de dos números.\n",
    "\n",
    "    Parámetros:\n",
    "    a (float): Primer número.\n",
    "    b (float): Segundo número.\n",
    "\n",
    "    Retorna:\n",
    "    float: Resultado de la resta.\n",
    "    \"\"\"\n",
    "    return a - b"
   ]
  },
  {
   "cell_type": "markdown",
   "id": "79de2df9",
   "metadata": {},
   "source": [
    "### ✖️ Función para multiplicar\n",
    "La siguiente función permite hacer la multiplicación de dos valores.\n",
    "Notar que seguimos la misma estructura para que el código sea consistente."
   ]
  },
  {
   "cell_type": "code",
   "execution_count": 4,
   "id": "c9f76ab1",
   "metadata": {},
   "outputs": [],
   "source": [
    "def multiplicar(a, b):\n",
    "    \"\"\"\n",
    "    Realiza la multiplicación de dos números.\n",
    "\n",
    "    Parámetros:\n",
    "    a (float): Primer número.\n",
    "    b (float): Segundo número.\n",
    "\n",
    "    Retorna:\n",
    "    float: Resultado de la multiplicación.\n",
    "    \"\"\"\n",
    "    return a * b"
   ]
  },
  {
   "cell_type": "markdown",
   "id": "8f430161",
   "metadata": {},
   "source": [
    "### ➗ Función para dividir\n",
    "Acá definimos la función para la división.\n",
    "Además, le agregamos una validación para evitar división por cero, lo que podría causar errores en tiempo de ejecución."
   ]
  },
  {
   "cell_type": "code",
   "execution_count": 5,
   "id": "71dfbc42",
   "metadata": {},
   "outputs": [],
   "source": [
    "def dividir(a, b):\n",
    "    \"\"\"\n",
    "    Realiza la división de dos números. Maneja división por cero.\n",
    "\n",
    "    Parámetros:\n",
    "    a (float): Numerador.\n",
    "    b (float): Denominador.\n",
    "\n",
    "    Retorna:\n",
    "    float: Resultado de la división si b ≠ 0, si no, mensaje de error.\n",
    "    \"\"\"\n",
    "    if b == 0:\n",
    "        return \"Error: No se puede dividir por cero.\"\n",
    "    return a / b"
   ]
  },
  {
   "cell_type": "markdown",
   "id": "0eb5dc33",
   "metadata": {},
   "source": [
    "## 🖥️ Función principal de la calculadora\n",
    "Aquí se organiza toda la lógica del programa:\n",
    "\n",
    "- Se pregunta al usuario qué operación desea realizar.\n",
    "- Se validan los datos ingresados.\n",
    "- Se llama a la función correspondiente según la elección. También se muestra el resultado al final de forma clara.\n",
    "\n"
   ]
  },
  {
   "cell_type": "code",
   "execution_count": 6,
   "id": "2d71895b",
   "metadata": {},
   "outputs": [],
   "source": [
    "def calculadora():\n",
    "    \"\"\"\n",
    "    Función principal que ejecuta la calculadora.\n",
    "    Solicita al usuario la operación a realizar y los números, luego muestra el resultado.\n",
    "    \"\"\"\n",
    "\n",
    "    print(\"Bienvenido/a a la calculadora básica 🧮\")\n",
    "    print(\"Operaciones disponibles: sumar, restar, multiplicar, dividir\")\n",
    "\n",
    "    # Pedimos la operación al usuario\n",
    "    operacion = input(\"¿Qué operación deseas realizar? \").lower()\n",
    "\n",
    "    # Validamos que sea una operación válida\n",
    "    if operacion not in [\"sumar\", \"restar\", \"multiplicar\", \"dividir\"]:\n",
    "        print(\"Operación no válida. Por favor elige entre sumar, restar, multiplicar o dividir.\")\n",
    "        return\n",
    "\n",
    "    try:\n",
    "        # Pedimos los números. Convertimos a float para permitir decimales.\n",
    "        num1 = float(input(\"Ingresa el primer número: \"))\n",
    "        num2 = float(input(\"Ingresa el segundo número: \"))\n",
    "    except ValueError:\n",
    "        print(\"Por favor ingresa valores numéricos válidos.\")\n",
    "        return\n",
    "\n",
    "    # Elegimos la operación y mostramos el resultado\n",
    "    if operacion == \"sumar\":\n",
    "        resultado = sumar(num1, num2)\n",
    "    elif operacion == \"restar\":\n",
    "        resultado = restar(num1, num2)\n",
    "    elif operacion == \"multiplicar\":\n",
    "        resultado = multiplicar(num1, num2)\n",
    "    elif operacion == \"dividir\":\n",
    "        resultado = dividir(num1, num2)\n",
    "\n",
    "    print(f\"Resultado: {resultado}\")\n",
    "\n"
   ]
  },
  {
   "cell_type": "markdown",
   "id": "3a70fe66",
   "metadata": {},
   "source": [
    "## ▶️ Ejecutar la calculadora\n",
    "Finalmente, usamos una condición if __name__ == \"__main__\" para que la calculadora solo se ejecute si el archivo se ejecuta directamente.\n",
    "Esto es útil si queremos usar estas funciones más adelante en otro programa sin que se ejecute automáticamente."
   ]
  },
  {
   "cell_type": "code",
   "execution_count": 7,
   "id": "f150737e",
   "metadata": {},
   "outputs": [
    {
     "name": "stdout",
     "output_type": "stream",
     "text": [
      "Bienvenido/a a la calculadora básica 🧮\n",
      "Operaciones disponibles: sumar, restar, multiplicar, dividir\n",
      "Resultado: 2.0\n"
     ]
    }
   ],
   "source": [
    "if __name__ == \"__main__\":\n",
    "    calculadora()"
   ]
  },
  {
   "cell_type": "markdown",
   "id": "8c8bcced",
   "metadata": {},
   "source": [
    "## 🧪 Informe de Pruebas\n",
    "\n",
    "A continuación se detallan los casos de prueba utilizados para validar el correcto funcionamiento de cada operación mediante la función `pruebas_calculadora()`.\n",
    "\n",
    "| Operación         | Entrada         | Resultado Esperado                  | Tipo de prueba         |\n",
    "|-------------------|-----------------|-------------------------------------|-------------------------|\n",
    "| sumar             | 2, 3            | 5                                   | Valor positivo          |\n",
    "| sumar             | -1, -1          | -2                                  | Valor negativo          |\n",
    "| restar            | 10, 4           | 6                                   | Resultado positivo      |\n",
    "| restar            | 5, 10           | -5                                  | Resultado negativo      |\n",
    "| multiplicar       | 3, 4            | 12                                  | Multiplicación simple   |\n",
    "| multiplicar       | 0, 100          | 0                                   | Conmutación con cero    |\n",
    "| dividir           | 10, 2           | 5.0                                 | División exacta         |\n",
    "| dividir           | 7, 1            | 7.0                                 | División unidad         |\n",
    "| dividir (error)   | 5, 0            | \"Error: No se puede dividir por cero.\" | División por cero (error esperado) |\n"
   ]
  },
  {
   "cell_type": "code",
   "execution_count": 8,
   "id": "fef83b88",
   "metadata": {},
   "outputs": [
    {
     "name": "stdout",
     "output_type": "stream",
     "text": [
      "✅ Todas las pruebas pasaron correctamente.\n"
     ]
    }
   ],
   "source": [
    "def pruebas_calculadora():\n",
    "    \"\"\"\n",
    "    Ejecuta pruebas automáticas con assert para verificar que las funciones de la calculadora funcionen correctamente.\n",
    "    Si alguna prueba falla, se lanza un AssertionError indicando el problema.\n",
    "    \"\"\"\n",
    "\n",
    "    # Pruebas de suma\n",
    "    assert sumar(2, 3) == 5, \"Error en suma: 2 + 3 debería ser 5\"\n",
    "    assert sumar(-1, -1) == -2, \"Error en suma: -1 + -1 debería ser -2\"\n",
    "\n",
    "    # Pruebas de resta\n",
    "    assert restar(10, 4) == 6, \"Error en resta: 10 - 4 debería ser 6\"\n",
    "    assert restar(5, 10) == -5, \"Error en resta: 5 - 10 debería ser -5\"\n",
    "\n",
    "    # Pruebas de multiplicación\n",
    "    assert multiplicar(3, 4) == 12, \"Error en multiplicación: 3 * 4 debería ser 12\"\n",
    "    assert multiplicar(0, 100) == 0, \"Error en multiplicación: 0 * 100 debería ser 0\"\n",
    "\n",
    "    # Pruebas de división\n",
    "    assert dividir(10, 2) == 5.0, \"Error en división: 10 / 2 debería ser 5.0\"\n",
    "    assert dividir(7, 1) == 7.0, \"Error en división: 7 / 1 debería ser 7.0\"\n",
    "    \n",
    "    # División por cero (esperamos un string de error)\n",
    "    assert dividir(5, 0) == \"Error: No se puede dividir por cero.\", \"Error en división: No se manejó correctamente la división por cero\"\n",
    "\n",
    "    print(\"✅ Todas las pruebas pasaron correctamente.\")\n",
    "\n",
    "# Ejecutamos la función de pruebas\n",
    "pruebas_calculadora()\n"
   ]
  },
  {
   "cell_type": "markdown",
   "id": "456c884d",
   "metadata": {},
   "source": [
    "### 🔍 ¿Qué hace esto?\n",
    "- Usa assert, que es una forma simple de verificar que algo sea verdadero.\n",
    "- Si alguna condición no se cumple, lanza una excepción (AssertionError) con un mensaje claro.\n",
    "- Al final, imprime un mensaje de éxito si todo está correcto.\n",
    "\n"
   ]
  },
  {
   "cell_type": "markdown",
   "id": "37a49699",
   "metadata": {},
   "source": [
    "## 🧩 Conclusión\n",
    "Este notebook permite poner en práctica conceptos fundamentales de Python, como funciones, control de flujo y manejo de errores.\n",
    "Además, estructura el código de forma clara, con buenas prácticas y documentación, lo que facilita su extensión futura."
   ]
  }
 ],
 "metadata": {
  "kernelspec": {
   "display_name": "Python 3",
   "language": "python",
   "name": "python3"
  },
  "language_info": {
   "codemirror_mode": {
    "name": "ipython",
    "version": 3
   },
   "file_extension": ".py",
   "mimetype": "text/x-python",
   "name": "python",
   "nbconvert_exporter": "python",
   "pygments_lexer": "ipython3",
   "version": "3.12.10"
  }
 },
 "nbformat": 4,
 "nbformat_minor": 5
}
