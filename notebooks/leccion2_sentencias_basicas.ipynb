{
 "cells": [
  {
   "cell_type": "markdown",
   "id": "9a723a79",
   "metadata": {},
   "source": [
    "# 📓 Portafolio Módulo 2 – PyLearningHub\n",
    "\n",
    "**Nombre:** Etienne Bellenger H.  \n",
    "**Bootcamp:** Bootcamp Ing de Datos – PyLearningHub  \n",
    "**Evaluación:** Sentencias Básicas  \n",
    "**Fecha:** Junio 2025  \n",
    "\n",
    "---\n",
    "\n",
    "Este notebook corresponde a la segunda lección del módulo, donde se pone en práctica el uso de **variables, tipos de datos, operaciones aritméticas y estructuras condicionales** mediante un ejemplo contextualizado y simple.\n",
    "\n",
    "> 💡 *\"Este ejercicio me ayudó a reforzar cómo funcionan los condicionales y cómo adaptarlos a situaciones reales como filtrar beneficios según edad y país.\"*\n"
   ]
  },
  {
   "cell_type": "markdown",
   "id": "3ada506d",
   "metadata": {},
   "source": [
    "## 🧠 Introducción\n",
    "\n",
    "El objetivo de este ejercicio es aplicar sentencias básicas de Python para crear un programa interactivo.  \n",
    "El programa pedirá al usuario su nombre, edad y país de residencia, y le mostrará un mensaje personalizado.\n",
    "\n",
    "Además, validará si esa persona **accede a un beneficio especial**, el cual está reservado solo para mayores de edad que vivan en **Argentina, Chile o Colombia**.\n",
    "\n",
    "Esto permite afianzar conocimientos sobre:\n",
    "\n",
    "- Variables (`str`, `int`)\n",
    "- Entrada y salida con `input()` y `print()`\n",
    "- Condicionales `if`, `else`\n",
    "- Operadores lógicos (`and`, `or`)"
   ]
  },
  {
   "cell_type": "markdown",
   "id": "12064f63",
   "metadata": {
    "vscode": {
     "languageId": "plaintext"
    }
   },
   "source": [
    "## 🔤 Entrada de datos\n",
    "\n",
    "Primero solicitamos al usuario que ingrese su **nombre**, **edad** y **país**.  \n",
    "Estos datos se almacenan en variables y algunos se transforman de texto a número para poder evaluarlos."
   ]
  },
  {
   "cell_type": "code",
   "execution_count": 1,
   "id": "f1ce6778",
   "metadata": {},
   "outputs": [],
   "source": [
    "# Solicitamos al usuario que ingrese sus datos\n",
    "nombre = input(\"¿Cuál es tu nombre?: \")\n",
    "edad = int(input(\"¿Cuántos años tienes?: \"))\n",
    "pais = input(\"¿En qué país vives?: \")\n",
    "\n",
    "# Convertimos el país a minúscula para facilitar las comparaciones\n",
    "pais = pais.lower()"
   ]
  },
  {
   "cell_type": "markdown",
   "id": "b87447a9",
   "metadata": {},
   "source": [
    "## 📋 Evaluación de condiciones\n",
    "\n",
    "A continuación, evaluamos si la persona cumple con los requisitos para acceder al beneficio:  \n",
    "- Tener **18 años o más**  \n",
    "- Vivir en **Argentina**, **Chile** o **Colombia**\n",
    "\n",
    "Se usa una estructura condicional `if/else` para decidir el mensaje que se mostrará."
   ]
  },
  {
   "cell_type": "code",
   "execution_count": 2,
   "id": "766000f9",
   "metadata": {},
   "outputs": [],
   "source": [
    "# Definimos los países válidos\n",
    "paises_con_beneficio = ['argentina', 'chile', 'colombia']\n",
    "\n",
    "# Verificamos si cumple con los requisitos\n",
    "tiene_beneficio = edad >= 18 and pais in paises_con_beneficio"
   ]
  },
  {
   "cell_type": "markdown",
   "id": "ea22c94a",
   "metadata": {},
   "source": [
    "## 📣 Mensaje final al usuario\n",
    "\n",
    "El programa imprime un mensaje personalizado con el nombre del usuario.  \n",
    "Además, le informa si puede o no acceder al beneficio especial."
   ]
  },
  {
   "cell_type": "code",
   "execution_count": 3,
   "id": "ee085e92",
   "metadata": {},
   "outputs": [
    {
     "name": "stdout",
     "output_type": "stream",
     "text": [
      "\n",
      "Hola Etienne, gracias por responder.\n",
      "🎉 ¡Felicitaciones! Puedes acceder al beneficio especial.\n"
     ]
    }
   ],
   "source": [
    "# Mostramos un saludo personalizado\n",
    "print(f\"\\nHola {nombre}, gracias por responder.\")\n",
    "\n",
    "# Mostramos si accede al beneficio o no\n",
    "if tiene_beneficio:\n",
    "    print(\"🎉 ¡Felicitaciones! Puedes acceder al beneficio especial.\")\n",
    "else:\n",
    "    print(\"⚠️ Lamentablemente no cumples con los requisitos para acceder al beneficio.\")"
   ]
  },
  {
   "cell_type": "markdown",
   "id": "16cbff1f",
   "metadata": {
    "vscode": {
     "languageId": "plaintext"
    }
   },
   "source": [
    "## 🧪 Función de Pruebas"
   ]
  },
  {
   "cell_type": "code",
   "execution_count": 4,
   "id": "1c61be4c",
   "metadata": {},
   "outputs": [
    {
     "name": "stdout",
     "output_type": "stream",
     "text": [
      "✅ Todas las pruebas de sentencia básica pasaron correctamente.\n"
     ]
    }
   ],
   "source": [
    "def evaluar_beneficio(edad, pais):\n",
    "    \"\"\"\n",
    "    Evalúa si una persona puede acceder al beneficio según su edad y país.\n",
    "\n",
    "    Parámetros:\n",
    "    - edad (int): edad de la persona.\n",
    "    - pais (str): país de residencia.\n",
    "\n",
    "    Retorna:\n",
    "    - bool: True si cumple con los requisitos, False si no.\n",
    "    \"\"\"\n",
    "    pais = pais.lower()\n",
    "    if edad >= 18 and pais in ['argentina', 'chile', 'colombia']:\n",
    "        return True\n",
    "    return False\n",
    "\n",
    "def pruebas_sentencias_basicas():\n",
    "    \"\"\"\n",
    "    Ejecuta pruebas con assert para validar la lógica de acceso al beneficio.\n",
    "    \"\"\"\n",
    "    assert evaluar_beneficio(20, \"Argentina\") == True\n",
    "    assert evaluar_beneficio(18, \"Chile\") == True\n",
    "    assert evaluar_beneficio(25, \"Colombia\") == True\n",
    "    assert evaluar_beneficio(17, \"Chile\") == False\n",
    "    assert evaluar_beneficio(22, \"Perú\") == False\n",
    "    assert evaluar_beneficio(18, \"México\") == False\n",
    "    print(\"✅ Todas las pruebas de sentencia básica pasaron correctamente.\")\n",
    "\n",
    "# Ejecutamos las pruebas\n",
    "pruebas_sentencias_basicas()\n"
   ]
  },
  {
   "cell_type": "markdown",
   "id": "24f97b79",
   "metadata": {},
   "source": [
    "## 🧩 Conclusión\n",
    "\n",
    "Este ejercicio fue útil para practicar sentencias básicas en Python y reforzar la lógica de programación.  \n",
    "El ejemplo se enfocó en un caso realista: entregar beneficios según edad y lugar de residencia.\n",
    "\n",
    "> 🚀 *\"Aprender a controlar el flujo de un programa con condiciones me dio más herramientas para armar programas para diferentes situaciones.\"*\n"
   ]
  },
  {
   "cell_type": "markdown",
   "id": "909126d5",
   "metadata": {},
   "source": [
    "## 📘 Manual de Referencia\n",
    "\n",
    "### Temas aplicados:\n",
    "\n",
    "1. **Entrada de datos**: `input()`\n",
    "2. **Conversión de tipo**: `int()` para edad\n",
    "3. **Comparaciones y operadores lógicos**: `>=`, `in`, `and`\n",
    "4. **Condicionales**: `if`, `else`\n",
    "5. **Funciones auxiliares para pruebas**: `assert`\n",
    "\n",
    "### Recomendación:\n",
    "- Siempre validar o transformar el input para evitar errores. Por ejemplo: convertir `pais` a minúsculas con `.lower()`.\n"
   ]
  },
  {
   "cell_type": "markdown",
   "id": "f3915d86",
   "metadata": {},
   "source": []
  }
 ],
 "metadata": {
  "kernelspec": {
   "display_name": "Python 3",
   "language": "python",
   "name": "python3"
  },
  "language_info": {
   "codemirror_mode": {
    "name": "ipython",
    "version": 3
   },
   "file_extension": ".py",
   "mimetype": "text/x-python",
   "name": "python",
   "nbconvert_exporter": "python",
   "pygments_lexer": "ipython3",
   "version": "3.12.10"
  }
 },
 "nbformat": 4,
 "nbformat_minor": 5
}
