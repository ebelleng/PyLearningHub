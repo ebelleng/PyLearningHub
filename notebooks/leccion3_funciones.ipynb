{
 "cells": [
  {
   "cell_type": "markdown",
   "id": "ce01c353",
   "metadata": {},
   "source": [
    "# 📓 Portafolio Módulo 2 – PyLearningHub\n",
    "\n",
    "**Nombre:** Etienne Bellenger H.  \n",
    "**Bootcamp:** Bootcamp Ing de Datos – PyLearningHub  \n",
    "**Evaluación:** Funciones y módulos\n",
    "**Fecha:** Junio 2025  \n",
    "\n",
    "---\n",
    "\n",
    "Este notebook corresponde a la tercera lección del módulo, donde se trabaja con la **modularización** de código en Python, una práctica muy común en proyectos reales para mantener el código ordenado, reutilizable y fácil de mantener.\n",
    "\n",
    "> 💡 *\"Separar funciones en módulos me ayudó a entender cómo organizar mejor mis scripts y pensar en cada función como una herramienta reutilizable dentro de una caja de herramientas personalizada.\"*\n"
   ]
  },
  {
   "cell_type": "markdown",
   "id": "cfc9d9ae",
   "metadata": {},
   "source": [
    "## 🧠 Introducción\n",
    "\n",
    "En esta actividad se retoma el ejercicio de la lección anterior (calculadora), pero esta vez **dividiendo el código en módulos**.\n",
    "\n",
    "El objetivo es:\n",
    "\n",
    "- Separar la lógica funcional en un archivo (`operaciones.py`).\n",
    "- Mantener un archivo principal (`main.py`) que importa y ejecuta la lógica.\n",
    "- Realizar pruebas automáticas con `assert`.\n",
    "\n",
    "Esto permite entrenar una forma de trabajo más profesional, facilitando la reutilización del código y su mantenimiento.\n"
   ]
  },
  {
   "cell_type": "markdown",
   "id": "fdb933a1",
   "metadata": {},
   "source": [
    "## 🧩 1. Módulo `operaciones.py`\n",
    "\n",
    "Contiene las funciones de operación y una función de prueba para verificar su correcto funcionamiento.\n",
    "\n",
    "Este módulo puede ser reutilizado en cualquier otro proyecto donde se necesiten estas operaciones matemáticas.\n"
   ]
  },
  {
   "cell_type": "code",
   "execution_count": 1,
   "id": "f24ef9a5",
   "metadata": {},
   "outputs": [
    {
     "name": "stdout",
     "output_type": "stream",
     "text": [
      "Writing operaciones.py\n"
     ]
    }
   ],
   "source": [
    "%%writefile operaciones.py\n",
    "\"\"\"\n",
    "Módulo operaciones.py\n",
    "Contiene funciones para operaciones básicas de una calculadora.\n",
    "\"\"\"\n",
    "\n",
    "def sumar(a, b):\n",
    "    \"\"\"\n",
    "    Suma dos números y retorna el resultado.\n",
    "    \"\"\"\n",
    "    return a + b\n",
    "\n",
    "def restar(a, b):\n",
    "    \"\"\"\n",
    "    Resta el segundo número al primero y retorna el resultado.\n",
    "    \"\"\"\n",
    "    return a - b\n",
    "\n",
    "def multiplicar(a, b):\n",
    "    \"\"\"\n",
    "    Multiplica dos números y retorna el resultado.\n",
    "    \"\"\"\n",
    "    return a * b\n",
    "\n",
    "def dividir(a, b):\n",
    "    \"\"\"\n",
    "    Divide el primer número por el segundo y retorna el resultado.\n",
    "    Si el divisor es cero, retorna None y muestra un mensaje de error.\n",
    "    \"\"\"\n",
    "    if b == 0:\n",
    "        print(\"Error: No se puede dividir por cero.\")\n",
    "        return None\n",
    "    return a / b\n",
    "\n",
    "def pruebas_operaciones():\n",
    "    \"\"\"\n",
    "    Función para probar las operaciones básicas usando assert.\n",
    "    \"\"\"\n",
    "    assert sumar(5, 3) == 8, \"Error en suma\"\n",
    "    assert restar(10, 4) == 6, \"Error en resta\"\n",
    "    assert multiplicar(2, 5) == 10, \"Error en multiplicación\"\n",
    "    assert dividir(20, 4) == 5, \"Error en división\"\n",
    "    assert dividir(5, 0) is None, \"Error en división por cero\"\n",
    "    print(\"Todas las pruebas pasaron correctamente.\")\n"
   ]
  },
  {
   "cell_type": "markdown",
   "id": "0e247717",
   "metadata": {},
   "source": [
    "## ▶️ 2. Script `main.py`\n",
    "\n",
    "Este script importa las funciones desde el módulo, pide al usuario dos números y la operación a realizar, y muestra el resultado por consola.\n",
    "\n",
    "También incluye una llamada opcional a `pruebas_calculadora()` para verificar automáticamente que todas las funciones estén funcionando bien antes de ejecutar la calculadora.\n"
   ]
  },
  {
   "cell_type": "code",
   "execution_count": 2,
   "id": "a02f15c3",
   "metadata": {},
   "outputs": [
    {
     "name": "stdout",
     "output_type": "stream",
     "text": [
      "Writing main.py\n"
     ]
    }
   ],
   "source": [
    "%%writefile main.py\n",
    "\"\"\"\n",
    "Script principal main.py\n",
    "Interactúa con el usuario y utiliza funciones del módulo operaciones.py para realizar cálculos.\n",
    "\"\"\"\n",
    "\n",
    "from operaciones import sumar, restar, multiplicar, dividir, pruebas_operaciones\n",
    "\n",
    "def main():\n",
    "    print(\"¡Bienvenido a la calculadora básica!\")\n",
    "    \n",
    "    pruebas_operaciones()  # Ejecuta pruebas automáticas\n",
    "    \n",
    "    while True:\n",
    "        print(\"\\nSeleccione la operación que desea realizar:\")\n",
    "        print(\"1. Suma (+)\")\n",
    "        print(\"2. Resta (-)\")\n",
    "        print(\"3. Multiplicación (*)\")\n",
    "        print(\"4. División (/)\")\n",
    "        print(\"5. Salir\")\n",
    "\n",
    "        opcion = input(\"Ingrese opción (1-5): \").strip()\n",
    "\n",
    "        if opcion == '5':\n",
    "            print(\"Gracias por usar la calculadora. ¡Hasta luego!\")\n",
    "            break\n",
    "\n",
    "        if opcion not in {'1', '2', '3', '4'}:\n",
    "            print(\"Opción inválida, por favor ingrese un número del 1 al 5.\")\n",
    "            continue\n",
    "\n",
    "        try:\n",
    "            num1 = float(input(\"Ingrese el primer número: \"))\n",
    "            num2 = float(input(\"Ingrese el segundo número: \"))\n",
    "        except ValueError:\n",
    "            print(\"Error: Debe ingresar números válidos.\")\n",
    "            continue\n",
    "\n",
    "        if opcion == '1':\n",
    "            resultado = sumar(num1, num2)\n",
    "            simbolo = '+'\n",
    "        elif opcion == '2':\n",
    "            resultado = restar(num1, num2)\n",
    "            simbolo = '-'\n",
    "        elif opcion == '3':\n",
    "            resultado = multiplicar(num1, num2)\n",
    "            simbolo = '*'\n",
    "        elif opcion == '4':\n",
    "            resultado = dividir(num1, num2)\n",
    "            simbolo = '/'\n",
    "            if resultado is None:\n",
    "                continue  # Ya mostró error, vuelve al menú\n",
    "\n",
    "        print(f\"\\nResultado: {num1} {simbolo} {num2} = {resultado}\")\n",
    "\n",
    "if __name__ == \"__main__\":\n",
    "    main()"
   ]
  },
  {
   "cell_type": "markdown",
   "id": "1d6ac48e",
   "metadata": {},
   "source": [
    "## 🧪 Informe de Pruebas\n",
    "\n",
    "Se ejecutaron pruebas automáticas usando `assert`, verificando que cada función matemática entregue el resultado correcto.\n",
    "\n",
    "| Operación     | Entrada 1 | Entrada 2 | Resultado Esperado | Resultado Obtenido | Estado |\n",
    "|---------------|-----------|-----------|---------------------|---------------------|--------|\n",
    "| Suma          | 5         | 3         | 8                   | 8                   | ✅     |\n",
    "| Resta         | 10        | 4         | 6                   | 6                   | ✅     |\n",
    "| Multiplicación| 2         | 5         | 10                  | 10                  | ✅     |\n",
    "| División      | 20        | 4         | 5                   | 5                   | ✅     |\n",
    "| División por 0| 5         | 0         | Error / None        | None                | ✅     |\n",
    "\n",
    "> ✔️ Todas las pruebas fueron exitosas.\n"
   ]
  },
  {
   "cell_type": "markdown",
   "id": "005c8317",
   "metadata": {},
   "source": [
    "## 📘 Manual de Referencia\n",
    "\n",
    "### Archivos utilizados:\n",
    "\n",
    "- `operaciones.py`\n",
    "  - Contiene las funciones `sumar`, `restar`, `multiplicar`, `dividir`, y `pruebas_calculadora`.\n",
    "- `main.py`\n",
    "  - Controla la interacción con el usuario.\n",
    "  - Llama a las funciones desde el módulo según la opción ingresada.\n",
    "\n",
    "### Beneficios de modularizar:\n",
    "- Permite mantener código limpio y ordenado.\n",
    "- Facilita las pruebas unitarias.\n",
    "- Las funciones pueden ser reutilizadas en otros scripts o notebooks.\n"
   ]
  },
  {
   "cell_type": "markdown",
   "id": "a75d025e",
   "metadata": {},
   "source": [
    "## 🧩 Conclusión\n",
    "\n",
    "Este ejercicio permitió aplicar buenas prácticas de programación como la modularización, reutilización de código y validación de funciones con pruebas automáticas.\n",
    "\n",
    "> ✅ *\"Modularizar la calculadora me permitió ver cómo un proyecto puede escalar si separo responsabilidades entre archivos. Ahora entiendo mejor cómo trabajan los equipos cuando construyen software real.\"*\n"
   ]
  },
  {
   "cell_type": "markdown",
   "id": "ad4bf56a",
   "metadata": {},
   "source": []
  }
 ],
 "metadata": {
  "kernelspec": {
   "display_name": "Python 3",
   "language": "python",
   "name": "python3"
  },
  "language_info": {
   "codemirror_mode": {
    "name": "ipython",
    "version": 3
   },
   "file_extension": ".py",
   "mimetype": "text/x-python",
   "name": "python",
   "nbconvert_exporter": "python",
   "pygments_lexer": "ipython3",
   "version": "3.12.10"
  }
 },
 "nbformat": 4,
 "nbformat_minor": 5
}
