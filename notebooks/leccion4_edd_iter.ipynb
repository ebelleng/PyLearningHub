{
 "cells": [
  {
   "cell_type": "markdown",
   "id": "6bf27f39",
   "metadata": {},
   "source": [
    "# 📓 Portafolio Módulo 2 – PyLearningHub\n",
    "\n",
    "**Nombre:** Etienne Bellenger H.  \n",
    "**Bootcamp:** Bootcamp Ing de Datos – PyLearningHub  \n",
    "**Evaluación:** Estructuras de Datos y Ciclos Iterativos – Análisis de calificaciones  \n",
    "**Fecha:** Junio 2025  \n",
    "\n",
    "---"
   ]
  },
  {
   "cell_type": "markdown",
   "id": "8a9b8bbc",
   "metadata": {},
   "source": [
    "## 🧠 Introducción\n",
    "\n",
    "Este ejercicio busca ejercitar el uso de **listas** y **bucles for** para recorrer datos, además de aplicar lógica condicional para filtrar y contar elementos.  \n",
    "\n",
    "El caso simula una situación común en ingeniería de datos: analizar una colección de notas de estudiantes para calcular estadísticas básicas como promedio, cantidad de aprobados y generar una lista con las notas aprobadas.\n"
   ]
  },
  {
   "cell_type": "markdown",
   "id": "654f1ab3",
   "metadata": {},
   "source": [
    "# 📚 Documentación Técnica\n",
    "\n",
    "El programa realiza las siguientes acciones:  \n",
    "1. Define una lista con al menos 8 calificaciones numéricas entre 0 y 100.  \n",
    "2. Recorre la lista con un bucle `for` para sumar todas las notas y así calcular el total.  \n",
    "3. Usa una condición `if` dentro del bucle para:  \n",
    "   - Contar cuántas notas son aprobatorias (≥ 60).  \n",
    "   - Guardar las notas aprobadas en una nueva lista.  \n",
    "4. Calcula el promedio dividiendo la suma total entre la cantidad de notas.  \n",
    "5. Imprime los resultados: promedio, número de aprobados y la lista con las notas aprobadas.  \n",
    "\n",
    "Se emplean buenas prácticas como nombrar variables descriptivas y comentarios claros para facilitar la comprensión del código.\n"
   ]
  },
  {
   "cell_type": "code",
   "execution_count": 8,
   "id": "88f05753",
   "metadata": {},
   "outputs": [
    {
     "name": "stdout",
     "output_type": "stream",
     "text": [
      "Promedio general: 68.38\n",
      "Cantidad de aprobados: 5\n",
      "Lista de notas aprobadas: [78, 90, 62, 85, 73]\n"
     ]
    }
   ],
   "source": [
    "# 1. Definir lista y variables iniciales\n",
    "calificaciones = [55, 78, 90, 45, 62, 59, 85, 73]\n",
    "\n",
    "total = 0\n",
    "aprobados = 0\n",
    "lista_aprobados = []\n",
    "\n",
    "# 2. Recorrer la lista y acumular datos\n",
    "for nota in calificaciones:\n",
    "    total += nota\n",
    "    # 3. Usar condición if en bucle\n",
    "    if nota >= 60:\n",
    "        aprobados += 1\n",
    "        lista_aprobados.append(nota)\n",
    "\n",
    "# 4-5. Calcular promedio y mostrar resultados\n",
    "promedio = total / len(calificaciones)\n",
    "\n",
    "print(f\"Promedio general: {promedio:.2f}\")\n",
    "print(f\"Cantidad de aprobados: {aprobados}\")\n",
    "print(f\"Lista de notas aprobadas: {lista_aprobados}\")"
   ]
  },
  {
   "cell_type": "markdown",
   "id": "a3d3f25f",
   "metadata": {},
   "source": [
    "## 🧪 Informe de Pruebas\n",
    "\n",
    "| Caso de prueba                  | Entrada                                | Salida esperada                     | Estado  |\n",
    "|--------------------------------|--------------------------------------|-----------------------------------|---------|\n",
    "| Lista con 8 notas variadas      | [55, 78, 90, 45, 62, 59, 85, 73]     | Promedio ≈ 68.375, Aprobados = 5, Lista aprobados = [78, 90, 62, 85, 73] | ✅       |\n",
    "| Lista con todas notas aprobadas | [70, 85, 90, 65, 78, 80, 100, 88]    | Promedio ≈ 82.75, Aprobados = 8, Lista aprobados = misma lista           | ✅       |\n",
    "| Lista con ninguna nota aprobada | [10, 20, 30, 40, 50, 55, 0, 59]      | Promedio ≈ 32.0, Aprobados = 0, Lista aprobados = []                    | ✅       |\n"
   ]
  },
  {
   "cell_type": "code",
   "execution_count": 9,
   "id": "323f8b1d",
   "metadata": {},
   "outputs": [
    {
     "name": "stdout",
     "output_type": "stream",
     "text": [
      "✅ Todas las pruebas pasaron correctamente.\n"
     ]
    }
   ],
   "source": [
    "def pruebas_calificaciones():\n",
    "    # Caso 1: mezcla de notas aprobadas y reprobadas\n",
    "    notas1 = [55, 78, 90, 45, 62, 59, 85, 73]\n",
    "    total1 = sum(notas1)\n",
    "    aprobados1 = [n for n in notas1 if n >= 60]\n",
    "    promedio1 = total1 / len(notas1)\n",
    "\n",
    "    assert round(promedio1, 3) == 68.375\n",
    "    assert len(aprobados1) == 5\n",
    "    assert aprobados1 == [78, 90, 62, 85, 73]\n",
    "\n",
    "    # Caso 2: todas aprobadas\n",
    "    notas2 = [70, 85, 90, 65, 78, 80, 100, 88]\n",
    "    total2 = sum(notas2)\n",
    "    aprobados2 = [n for n in notas2 if n >= 60]\n",
    "    promedio2 = total2 / len(notas2)\n",
    "\n",
    "    assert round(promedio2, 2) == 82.0\n",
    "    assert len(aprobados2) == 8\n",
    "    assert aprobados2 == notas2\n",
    "\n",
    "    # Caso 3: ninguna aprobada\n",
    "    notas3 = [10, 20, 30, 40, 50, 55, 0, 59]\n",
    "    total3 = sum(notas3)\n",
    "    aprobados3 = [n for n in notas3 if n >= 60]\n",
    "    promedio3 = total3 / len(notas3)\n",
    "\n",
    "    assert round(promedio3, 2) == 33.0\n",
    "    assert len(aprobados3) == 0\n",
    "    assert aprobados3 == []\n",
    "\n",
    "    print(\"✅ Todas las pruebas pasaron correctamente.\")\n",
    "\n",
    "# Ejecutar las pruebas\n",
    "pruebas_calificaciones()\n"
   ]
  },
  {
   "cell_type": "markdown",
   "id": "a0d84dfa",
   "metadata": {},
   "source": [
    "## 🧩 Conclusión\n",
    "\n",
    "Este ejercicio permitió afianzar el uso de estructuras de datos fundamentales como las listas, junto con la utilización de ciclos `for` y condicionales para procesar y analizar datos.\n",
    "\n",
    "> ✅ *\"Practicar estos conceptos es crucial para la ingeniería de datos, ya que permite preparar y transformar información para análisis posteriores.\"*\n"
   ]
  },
  {
   "cell_type": "markdown",
   "id": "f6a27482",
   "metadata": {},
   "source": [
    "## 🚀 Mejoras y Buenas Prácticas Aplicadas\n",
    "\n",
    "### 1. Creación de funciones con parámetros y valor de retorno  \n",
    "Las funciones fueron diseñadas para recibir datos de entrada como argumentos y devolver resultados concretos, lo que permite mayor modularidad y reutilización del código en distintos contextos."
   ]
  },
  {
   "cell_type": "code",
   "execution_count": 10,
   "id": "1e860ace",
   "metadata": {},
   "outputs": [],
   "source": [
    "# Funciones con parámetros y valor de retorno para analizar calificaciones\n",
    "\n",
    "def calcular_promedio(notas):\n",
    "    return sum(notas) / len(notas)\n",
    "\n",
    "def filtrar_aprobados(notas, minimo=60):\n",
    "    return [nota for nota in notas if nota >= minimo]"
   ]
  },
  {
   "cell_type": "markdown",
   "id": "c8e054c9",
   "metadata": {},
   "source": [
    "### 2. Organización modular del código en archivos independientes  \n",
    "El código se dividió en módulos propios (archivos `.py`), facilitando su mantenimiento y uso en múltiples proyectos, siguiendo buenas prácticas de ingeniería de software."
   ]
  },
  {
   "cell_type": "code",
   "execution_count": 11,
   "id": "6876ba3f",
   "metadata": {},
   "outputs": [
    {
     "name": "stdout",
     "output_type": "stream",
     "text": [
      "Writing calificaciones.py\n"
     ]
    }
   ],
   "source": [
    "%%writefile calificaciones.py\n",
    "\n",
    "def calcular_promedio(notas):\n",
    "    return sum(notas) / len(notas)\n",
    "\n",
    "def filtrar_aprobados(notas, minimo=60):\n",
    "    return [nota for nota in notas if nota >= minimo]\n",
    "\n"
   ]
  },
  {
   "cell_type": "code",
   "execution_count": 12,
   "id": "d9997889",
   "metadata": {},
   "outputs": [
    {
     "name": "stdout",
     "output_type": "stream",
     "text": [
      "Writing main.py\n"
     ]
    }
   ],
   "source": [
    "%%writefile main.py\n",
    "\n",
    "import calificaciones\n",
    "\n",
    "notas = [55, 78, 90, 45, 62, 59, 85, 73]\n",
    "\n",
    "promedio = calificaciones.calcular_promedio(notas)\n",
    "aprobados = calificaciones.filtrar_aprobados(notas)\n",
    "\n",
    "print(f\"Promedio: {promedio}\")\n",
    "print(f\"Aprobados: {aprobados}\")"
   ]
  },
  {
   "cell_type": "markdown",
   "id": "b54629b9",
   "metadata": {},
   "source": [
    "### 3. Ejemplo práctico con `numpy` para cálculo eficiente  \n",
    "Aunque se implementaron cálculos con estructuras básicas, se sugiere el uso de `numpy` para manejar grandes volúmenes de datos y realizar operaciones estadísticas de forma eficiente y con menos código.\n",
    "\n"
   ]
  },
  {
   "cell_type": "code",
   "execution_count": 13,
   "id": "7898e4fc",
   "metadata": {},
   "outputs": [
    {
     "name": "stdout",
     "output_type": "stream",
     "text": [
      "Promedio con numpy: 68.38\n",
      "Cantidad de aprobados con numpy: 5\n",
      "Notas aprobadas con numpy: [78, 90, 62, 85, 73]\n"
     ]
    }
   ],
   "source": [
    "# Instalación previa en terminal o notebook:\n",
    "# !pip install numpy\n",
    "\n",
    "import numpy as np\n",
    "\n",
    "notas = np.array([55, 78, 90, 45, 62, 59, 85, 73])\n",
    "\n",
    "promedio = np.mean(notas)\n",
    "aprobados = notas[notas >= 60]\n",
    "\n",
    "print(f\"Promedio con numpy: {promedio:.2f}\")\n",
    "print(f\"Cantidad de aprobados con numpy: {len(aprobados)}\")\n",
    "print(f\"Notas aprobadas con numpy: {aprobados.tolist()}\")"
   ]
  },
  {
   "cell_type": "code",
   "execution_count": null,
   "id": "25103948",
   "metadata": {},
   "outputs": [],
   "source": []
  }
 ],
 "metadata": {
  "kernelspec": {
   "display_name": "Python 3",
   "language": "python",
   "name": "python3"
  },
  "language_info": {
   "codemirror_mode": {
    "name": "ipython",
    "version": 3
   },
   "file_extension": ".py",
   "mimetype": "text/x-python",
   "name": "python",
   "nbconvert_exporter": "python",
   "pygments_lexer": "ipython3",
   "version": "3.12.10"
  }
 },
 "nbformat": 4,
 "nbformat_minor": 5
}
