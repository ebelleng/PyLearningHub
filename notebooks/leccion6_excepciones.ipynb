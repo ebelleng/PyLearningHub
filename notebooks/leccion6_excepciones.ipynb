{
 "cells": [
  {
   "cell_type": "markdown",
   "id": "9a512f5a",
   "metadata": {},
   "source": [
    "# 📘 Lección 6 – Manejo de Excepciones\n",
    "\n",
    "**Bootcamp:** Bootcamp Ing de Datos – PyLearningHub  \n",
    "**Tema:** Control de errores con Excepciones  \n",
    "**Módulo:** Excepciones en python\n",
    "**Objetivo:** Aplicar el manejo de errores y excepciones en Python a través de un caso práctico simulado: préstamos de libros en una biblioteca.\n"
   ]
  },
  {
   "cell_type": "markdown",
   "id": "12108bdd",
   "metadata": {},
   "source": [
    "## 📚 Introducción\n",
    "\n",
    "En esta actividad se pone en práctica el uso del bloque `try-except` en Python, el cual permite capturar errores de forma controlada y evitar que el programa se interrumpa inesperadamente.\n",
    "\n",
    "El caso simula el proceso de préstamo de libros en una biblioteca. Cuando un libro solicitado no está disponible, se lanza una excepción personalizada (`LibroNoDisponibleError`) que es capturada para mostrar un mensaje claro al usuario.\n"
   ]
  },
  {
   "cell_type": "markdown",
   "id": "f196eb1b",
   "metadata": {},
   "source": [
    "## 🛠️ Diseño del sistema\n",
    "\n",
    "Se implementaron tres componentes clave:\n",
    "\n",
    "- **Clase `Libro`:** contiene los atributos `título`, `autor` y `stock`.\n",
    "- **Clase `Biblioteca`:** gestiona los libros y tiene el método `prestar_libro(titulo)`, que controla el stock y lanza la excepción si es necesario.\n",
    "- **Excepción personalizada `LibroNoDisponibleError`:** permite distinguir este error de otros genéricos en el sistema.\n",
    "\n",
    "El código incluye validaciones, control de errores y mensajes amigables para los usuarios.\n"
   ]
  },
  {
   "cell_type": "code",
   "execution_count": 1,
   "id": "2f28c120",
   "metadata": {},
   "outputs": [
    {
     "name": "stdout",
     "output_type": "stream",
     "text": [
      "Writing biblioteca.py\n"
     ]
    }
   ],
   "source": [
    "%%writefile biblioteca.py\n",
    "class LibroNoDisponibleError(Exception):\n",
    "    \"\"\"Excepción lanzada cuando no hay stock disponible de un libro.\"\"\"\n",
    "    def __init__(self, titulo):\n",
    "        super().__init__(f\"El libro '{titulo}' no está disponible para préstamo.\")\n",
    "\n",
    "class Libro:\n",
    "    def __init__(self, titulo, autor, stock):\n",
    "        self.titulo = titulo\n",
    "        self.autor = autor\n",
    "        self.stock = stock\n",
    "\n",
    "    def __str__(self):\n",
    "        return f\"{self.titulo} - {self.autor} (Stock: {self.stock})\"\n",
    "\n",
    "class Biblioteca:\n",
    "    def __init__(self):\n",
    "        self.catalogo = {}\n",
    "\n",
    "    def agregar_libro(self, libro):\n",
    "        self.catalogo[libro.titulo] = libro\n",
    "\n",
    "    def prestar_libro(self, titulo):\n",
    "        if titulo in self.catalogo:\n",
    "            libro = self.catalogo[titulo]\n",
    "            if libro.stock > 0:\n",
    "                libro.stock -= 1\n",
    "                print(f\"✅ Libro prestado: {libro.titulo}. Quedan {libro.stock} ejemplares.\")\n",
    "            else:\n",
    "                raise LibroNoDisponibleError(titulo)\n",
    "        else:\n",
    "            print(f\"⚠️ El libro '{titulo}' no está en el catálogo.\")\n"
   ]
  },
  {
   "cell_type": "markdown",
   "id": "273e2d42",
   "metadata": {},
   "source": [
    "## 🧪 Informe de Pruebas\n",
    "\n",
    "| Prueba | Descripción | Resultado Esperado |\n",
    "|--------|-------------|---------------------|\n",
    "| Préstamo exitoso | Se solicita un libro con stock disponible | Stock disminuye y se muestra mensaje de éxito |\n",
    "| Préstamo sin stock | Se solicita un libro agotado | Se lanza y captura la excepción personalizada |\n",
    "| Reintento | Se prueba un préstamo tras agotar stock | Se muestra error y el sistema sigue funcionando |\n",
    "\n"
   ]
  },
  {
   "cell_type": "code",
   "execution_count": 2,
   "id": "aafe2799",
   "metadata": {},
   "outputs": [
    {
     "name": "stdout",
     "output_type": "stream",
     "text": [
      "✅ Libro prestado: Cien Años de Soledad. Quedan 1 ejemplares.\n",
      "✅ Libro prestado: Cien Años de Soledad. Quedan 0 ejemplares.\n",
      "❌ Error: El libro 'Cien Años de Soledad' no está disponible para préstamo.\n",
      "✅ Libro prestado: 1984. Quedan 0 ejemplares.\n",
      "❌ Error: El libro '1984' no está disponible para préstamo.\n"
     ]
    }
   ],
   "source": [
    "from biblioteca import Libro, Biblioteca, LibroNoDisponibleError\n",
    "\n",
    "# Crear libros e inicializar biblioteca\n",
    "libro1 = Libro(\"Cien Años de Soledad\", \"Gabriel García Márquez\", 2)\n",
    "libro2 = Libro(\"1984\", \"George Orwell\", 1)\n",
    "\n",
    "biblio = Biblioteca()\n",
    "biblio.agregar_libro(libro1)\n",
    "biblio.agregar_libro(libro2)\n",
    "\n",
    "# Realizar préstamos\n",
    "try:\n",
    "    biblio.prestar_libro(\"Cien Años de Soledad\")\n",
    "    biblio.prestar_libro(\"Cien Años de Soledad\")\n",
    "    biblio.prestar_libro(\"Cien Años de Soledad\")  # Debería fallar\n",
    "except LibroNoDisponibleError as e:\n",
    "    print(f\"❌ Error: {e}\")\n",
    "\n",
    "try:\n",
    "    biblio.prestar_libro(\"1984\")\n",
    "    biblio.prestar_libro(\"1984\")  # Debería fallar\n",
    "except LibroNoDisponibleError as e:\n",
    "    print(f\"❌ Error: {e}\")\n"
   ]
  },
  {
   "cell_type": "markdown",
   "id": "48470cae",
   "metadata": {},
   "source": [
    "## ✅ Conclusiones\n",
    "\n",
    "- Aprendimos a crear excepciones personalizadas para mejorar la claridad de los errores.\n",
    "- Implementamos control de errores usando `try` y `except`, lo cual mejora la experiencia del usuario.\n",
    "- Simulamos un flujo realista que refleja cómo las excepciones pueden evitar la interrupción del programa en sistemas reales como una biblioteca digital."
   ]
  }
 ],
 "metadata": {
  "kernelspec": {
   "display_name": "Python 3",
   "language": "python",
   "name": "python3"
  },
  "language_info": {
   "codemirror_mode": {
    "name": "ipython",
    "version": 3
   },
   "file_extension": ".py",
   "mimetype": "text/x-python",
   "name": "python",
   "nbconvert_exporter": "python",
   "pygments_lexer": "ipython3",
   "version": "3.12.10"
  }
 },
 "nbformat": 4,
 "nbformat_minor": 5
}
