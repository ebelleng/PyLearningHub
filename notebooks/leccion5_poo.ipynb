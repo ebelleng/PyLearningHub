{
 "cells": [
  {
   "cell_type": "markdown",
   "id": "0008f884",
   "metadata": {},
   "source": [
    "# 🧠 Lección 5 – Programación Orientada a Objetos (POO)\n",
    "\n",
    "**Bootcamp:** Bootcamp Ing de Datos – PyLearningHub  \n",
    "**Tema:** Clases y Objetos en Python  \n",
    "**Módulo:** Fundamentos de Python  \n",
    "**Objetivo:** Aplicar los principios de la programación orientada a objetos para modelar un objeto del mundo real: un automóvil.\n",
    "\n",
    "---"
   ]
  },
  {
   "cell_type": "markdown",
   "id": "b4e7091a",
   "metadata": {},
   "source": [
    "## 📚 Introducción\n",
    "\n",
    "En esta lección se pone en práctica la creación de clases en Python para representar objetos del mundo real, utilizando la sintaxis de Programación Orientada a Objetos (POO). A través del objeto `Auto`, se exploran los conceptos de:\n",
    "\n",
    "- Atributos de instancia\n",
    "- Métodos\n",
    "- Estados del objeto\n",
    "- Creación de instancias\n",
    "\n",
    "Este enfoque permite encapsular la lógica y el comportamiento de los objetos de forma estructurada y reutilizable.\n"
   ]
  },
  {
   "cell_type": "markdown",
   "id": "4957c5ce",
   "metadata": {},
   "source": [
    "## 🧱 Diseño de la clase `Auto`\n",
    "\n",
    "El diseño se basó en la identificación de:\n",
    "\n",
    "- **Atributos (propiedades):** características físicas como color, peso, tamaño, alto, largo, tipo, etc.\n",
    "- **Estados:** representan la situación actual del auto (`Detenido`, `Circulando`, etc.)\n",
    "- **Comportamientos (métodos):** acciones que puede realizar el auto, como `arrancar`, `frenar`, `acelerar`, `girar`.\n",
    "\n",
    "Estos elementos fueron transformados en atributos y métodos dentro de una clase, respetando buenas prácticas como encapsulamiento, uso de `__init__`, y validación de estados.\n"
   ]
  },
  {
   "cell_type": "code",
   "execution_count": 2,
   "id": "291aa76d",
   "metadata": {},
   "outputs": [
    {
     "name": "stdout",
     "output_type": "stream",
     "text": [
      "Writing auto.py\n"
     ]
    }
   ],
   "source": [
    "%%writefile auto.py\n",
    "class Auto:\n",
    "    def __init__(self, color, peso, tamaño, alto, largo, ruedas, puertas, tipo):\n",
    "        self.color = color\n",
    "        self.peso = peso\n",
    "        self.tamaño = tamaño\n",
    "        self.alto = alto\n",
    "        self.largo = largo\n",
    "        self.cantidad_ruedas = ruedas\n",
    "        self.cantidad_puertas = puertas\n",
    "        self.tipo = tipo\n",
    "        self.estado = \"Detenido\"\n",
    "\n",
    "    def mostrar_estado(self):\n",
    "        print(f\"Estado actual: {self.estado}\")\n",
    "\n",
    "    def arrancar(self):\n",
    "        if self.estado == \"Dañado\":\n",
    "            print(\"⚠️ No se puede arrancar, el auto está dañado.\")\n",
    "        else:\n",
    "            self.estado = \"Circulando\"\n",
    "            print(\"🚗 El auto ha arrancado.\")\n",
    "\n",
    "    def frenar(self):\n",
    "        if self.estado == \"Circulando\":\n",
    "            self.estado = \"Detenido\"\n",
    "            print(\"🛑 El auto se ha detenido.\")\n",
    "        else:\n",
    "            print(\"El auto ya está detenido o no puede frenar en su estado actual.\")\n",
    "\n",
    "    def acelerar(self):\n",
    "        if self.estado == \"Dañado\":\n",
    "            print(\"⚠️ No se puede acelerar, el auto está dañado.\")\n",
    "        elif self.estado == \"Circulando\":\n",
    "            print(\"💨 El auto está acelerando.\")\n",
    "        else:\n",
    "            print(\"El auto debe arrancar antes de acelerar.\")\n",
    "\n",
    "    def girar(self, direccion):\n",
    "        if self.estado == \"Circulando\":\n",
    "            print(f\"↪️ El auto gira hacia la {direccion}.\")\n",
    "        else:\n",
    "            print(\"No se puede girar si el auto no está circulando.\")\n",
    "\n",
    "    def dañar(self):\n",
    "        self.estado = \"Dañado\"\n",
    "        print(\"💥 El auto ha sufrido daños.\")\n",
    "\n",
    "    def reparar(self):\n",
    "        if self.estado == \"Dañado\":\n",
    "            self.estado = \"Detenido\"\n",
    "            print(\"🔧 El auto ha sido reparado y está detenido.\")\n",
    "        else:\n",
    "            print(\"El auto no necesita reparación.\")"
   ]
  },
  {
   "cell_type": "markdown",
   "id": "5a809f0c",
   "metadata": {},
   "source": [
    "## 🔍 Documentación de métodos\n",
    "\n",
    "Cada método está documentado dentro del código para explicar su propósito y lógica.  \n",
    "También se agregaron validaciones para evitar transiciones de estado ilógicas (por ejemplo, no se puede acelerar si el auto está dañado).\n"
   ]
  },
  {
   "cell_type": "markdown",
   "id": "0c391e07",
   "metadata": {},
   "source": [
    "## 🧪 Informe de Pruebas\n",
    "\n",
    "Se realizaron pruebas creando instancias de la clase `Auto` y ejecutando distintos métodos sobre ellas.\n",
    "\n",
    "| Prueba | Descripción | Resultado Esperado |\n",
    "|-------|-------------|---------------------|\n",
    "| Crear auto | Se instancia un objeto con valores iniciales | Auto creado correctamente |\n",
    "| Arrancar | Se cambia el estado de \"Detenido\" a \"Circulando\" | Estado actualizado |\n",
    "| Frenar | Se cambia el estado a \"Detenido\" | Estado actualizado |\n",
    "| Acelerar estando dañado | No debe permitirlo | Mensaje de error y sin cambio |\n",
    "| Girar | Permite ejecutar acción en circulación | Acción realizada |\n",
    "| Auto dañado | Estado cambia a \"Dañado\" y bloquea acciones | Solo permite reparar |\n",
    "\n",
    "---\n"
   ]
  },
  {
   "cell_type": "code",
   "execution_count": 3,
   "id": "2ffa4ed9",
   "metadata": {},
   "outputs": [
    {
     "name": "stdout",
     "output_type": "stream",
     "text": [
      "Estado actual: Detenido\n",
      "🚗 El auto ha arrancado.\n",
      "💨 El auto está acelerando.\n",
      "↪️ El auto gira hacia la izquierda.\n",
      "🛑 El auto se ha detenido.\n",
      "💥 El auto ha sufrido daños.\n",
      "⚠️ No se puede arrancar, el auto está dañado.\n",
      "🔧 El auto ha sido reparado y está detenido.\n",
      "🚗 El auto ha arrancado.\n"
     ]
    }
   ],
   "source": [
    "from auto import Auto\n",
    "\n",
    "# Crear instancia\n",
    "mi_auto = Auto(color=\"Rojo\", peso=\"1200kg\", tamaño=\"Mediano\", alto=\"1.5m\", largo=\"4m\", ruedas=4, puertas=4, tipo=\"Sedán\")\n",
    "\n",
    "# Estado inicial\n",
    "mi_auto.mostrar_estado()\n",
    "\n",
    "# Probar métodos\n",
    "mi_auto.arrancar()\n",
    "mi_auto.acelerar()\n",
    "mi_auto.girar(\"izquierda\")\n",
    "mi_auto.frenar()\n",
    "mi_auto.dañar()\n",
    "mi_auto.arrancar()  # No debería funcionar\n",
    "mi_auto.reparar()\n",
    "mi_auto.arrancar()"
   ]
  },
  {
   "cell_type": "markdown",
   "id": "bf9dfcda",
   "metadata": {},
   "source": [
    "## ✅ Conclusiones\n",
    "\n",
    "Este ejercicio permitió aplicar los conceptos fundamentales de la POO, promoviendo una forma más estructurada de programar y modelar la lógica basada en objetos reales.\n",
    "\n",
    "- Se entendió cómo agrupar propiedades y comportamientos en una clase.\n",
    "- Se reforzó el uso de métodos y control de estados.\n",
    "- Se promovió la reutilización y claridad del código.\n"
   ]
  }
 ],
 "metadata": {
  "kernelspec": {
   "display_name": "Python 3",
   "language": "python",
   "name": "python3"
  },
  "language_info": {
   "codemirror_mode": {
    "name": "ipython",
    "version": 3
   },
   "file_extension": ".py",
   "mimetype": "text/x-python",
   "name": "python",
   "nbconvert_exporter": "python",
   "pygments_lexer": "ipython3",
   "version": "3.12.10"
  }
 },
 "nbformat": 4,
 "nbformat_minor": 5
}
